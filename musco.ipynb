{
 "cells": [
  {
   "cell_type": "markdown",
   "id": "c8a668ec-2f2b-4992-a674-febd0747e7e6",
   "metadata": {},
   "source": [
    "## MUSCO"
   ]
  },
  {
   "cell_type": "markdown",
   "id": "38655d61-6a12-49e3-894c-40fae1a0449b",
   "metadata": {},
   "source": [
    "\n",
    "Cette maladie est causée par la modification d’un gène responsable de la fabrication de la\r\n",
    "protéine dystrophine, laquelle contribue à la force et la santé des muscles. Cette modification\r\n",
    "est ce qu’on appelle une mutation. Lorsque ce gène subit une mutation, la protéine\r\n",
    "dystrophine ne s’acquitte plus de sa fonction. Les cellules musculaires s’affaiblissent et se\r\n",
    "détruisent peu à peu. Rarissime chez les filles, cette maladie affecte surtout les garçons. Nous\r\n",
    "disposons de quatre variables pouvant être utilisés comme prédicteurs de cette maladie : la\r\n",
    "créatine kinase, l’hemopexine, la lactate dehydrogénase et la pyruvate kinase (enzymes)."
   ]
  },
  {
   "cell_type": "code",
   "execution_count": 26,
   "id": "04d8d6ac-389b-4cc9-88fa-6260f2e27537",
   "metadata": {},
   "outputs": [],
   "source": [
    "import pandas as pd\n",
    "from sklearn import datasets\n",
    "from sklearn.metrics import confusion_matrix"
   ]
  },
  {
   "cell_type": "code",
   "execution_count": 27,
   "id": "7cb9d719-0a9e-4572-a816-dcd7a3e05400",
   "metadata": {},
   "outputs": [
    {
     "name": "stdout",
     "output_type": "stream",
     "text": [
      "    AGE  CREATKIN  HEMOPEX  LACTDEHY  PYRUKIN  CARRIER\n",
      "0    22       5.2      8.4       1.1     17.6        1\n",
      "1    32       2.0      7.7       1.1     20.0        1\n",
      "2    36       2.8      8.7       1.3     17.1        1\n",
      "3    22       3.0     10.4       2.3     23.0        1\n",
      "4    23       4.0      8.3       1.5     20.5        1\n",
      "..  ...       ...      ...       ...      ...      ...\n",
      "68   38      11.3      9.7       1.9     21.6        2\n",
      "69   30       5.7     10.5       1.3     15.5        2\n",
      "70   42       7.8     11.8       1.6     21.2        2\n",
      "71   43       7.3     10.4       2.1     20.1        2\n",
      "72   29       6.9     11.1       1.6     17.5        2\n",
      "\n",
      "[73 rows x 6 columns]\n"
     ]
    }
   ],
   "source": [
    "musco = pd.read_csv('musco.txt', delimiter='\\t')\n",
    "print(musco)"
   ]
  },
  {
   "cell_type": "code",
   "execution_count": 28,
   "id": "8ce30dcc-15e6-426a-a37a-65e6edfd9217",
   "metadata": {},
   "outputs": [],
   "source": [
    "musco = musco.to_numpy()\n",
    "X = musco[:,0:5] #variables descriptives\n",
    "y = musco[:,-1] #variable binaire à expliquer"
   ]
  },
  {
   "cell_type": "markdown",
   "id": "32841dd9-ad0e-406b-9c84-1a856b04f52e",
   "metadata": {},
   "source": [
    "Nous sommes ici en présence d'un jeu de données à 5 variebles quantitatives et une variable qualitative (CARRIER) qui est la variable qui nous intéresse ) expliquer (elle représente si les individus sont atteints ou pas par la maladie). Cette variable est binaire et il est donc raisonnable de choisir un modèle de régression logistique adapté à expliquer une variable binaire par des variables quantitatives, et réaliser des prédictions sur des éventuelles valeurs futures. On réalise d'abord une régression logistique afin d'évaluer la pertinence et la significativité des variables quantitatives sur la variable CARRIER."
   ]
  },
  {
   "cell_type": "markdown",
   "id": "70b1eb82-a7f6-4c9e-9dd1-d966018e1ffb",
   "metadata": {},
   "source": [
    "## I. Régression logistique "
   ]
  },
  {
   "cell_type": "code",
   "execution_count": 29,
   "id": "daeae4fa-019d-4df8-a0fb-88fe9464abc6",
   "metadata": {},
   "outputs": [
    {
     "name": "stdout",
     "output_type": "stream",
     "text": [
      "Optimization terminated successfully.\n",
      "         Current function value: 0.521193\n",
      "         Iterations 8\n"
     ]
    },
    {
     "data": {
      "text/html": [
       "<table class=\"simpletable\">\n",
       "<caption>Logit Regression Results</caption>\n",
       "<tr>\n",
       "  <th>Dep. Variable:</th>           <td>y</td>        <th>  No. Observations:  </th>  <td>    73</td>  \n",
       "</tr>\n",
       "<tr>\n",
       "  <th>Model:</th>                 <td>Logit</td>      <th>  Df Residuals:      </th>  <td>    68</td>  \n",
       "</tr>\n",
       "<tr>\n",
       "  <th>Method:</th>                 <td>MLE</td>       <th>  Df Model:          </th>  <td>     4</td>  \n",
       "</tr>\n",
       "<tr>\n",
       "  <th>Date:</th>            <td>Sat, 25 May 2024</td> <th>  Pseudo R-squ.:     </th>  <td>0.2455</td>  \n",
       "</tr>\n",
       "<tr>\n",
       "  <th>Time:</th>                <td>23:56:12</td>     <th>  Log-Likelihood:    </th> <td> -38.047</td> \n",
       "</tr>\n",
       "<tr>\n",
       "  <th>converged:</th>             <td>True</td>       <th>  LL-Null:           </th> <td> -50.428</td> \n",
       "</tr>\n",
       "<tr>\n",
       "  <th>Covariance Type:</th>     <td>nonrobust</td>    <th>  LLR p-value:       </th> <td>5.615e-05</td>\n",
       "</tr>\n",
       "</table>\n",
       "<table class=\"simpletable\">\n",
       "<tr>\n",
       "   <td></td>     <th>coef</th>     <th>std err</th>      <th>z</th>      <th>P>|z|</th>  <th>[0.025</th>    <th>0.975]</th>  \n",
       "</tr>\n",
       "<tr>\n",
       "  <th>x1</th> <td>    0.0187</td> <td>    0.036</td> <td>    0.514</td> <td> 0.608</td> <td>   -0.053</td> <td>    0.090</td>\n",
       "</tr>\n",
       "<tr>\n",
       "  <th>x2</th> <td>    0.1590</td> <td>    0.080</td> <td>    1.993</td> <td> 0.046</td> <td>    0.003</td> <td>    0.315</td>\n",
       "</tr>\n",
       "<tr>\n",
       "  <th>x3</th> <td>   -0.4924</td> <td>    0.176</td> <td>   -2.791</td> <td> 0.005</td> <td>   -0.838</td> <td>   -0.147</td>\n",
       "</tr>\n",
       "<tr>\n",
       "  <th>x4</th> <td>    0.4606</td> <td>    0.439</td> <td>    1.050</td> <td> 0.294</td> <td>   -0.399</td> <td>    1.321</td>\n",
       "</tr>\n",
       "<tr>\n",
       "  <th>x5</th> <td>    0.0953</td> <td>    0.061</td> <td>    1.566</td> <td> 0.117</td> <td>   -0.024</td> <td>    0.215</td>\n",
       "</tr>\n",
       "</table>"
      ],
      "text/latex": [
       "\\begin{center}\n",
       "\\begin{tabular}{lclc}\n",
       "\\toprule\n",
       "\\textbf{Dep. Variable:}   &        y         & \\textbf{  No. Observations:  } &       73    \\\\\n",
       "\\textbf{Model:}           &      Logit       & \\textbf{  Df Residuals:      } &       68    \\\\\n",
       "\\textbf{Method:}          &       MLE        & \\textbf{  Df Model:          } &        4    \\\\\n",
       "\\textbf{Date:}            & Sat, 25 May 2024 & \\textbf{  Pseudo R-squ.:     } &   0.2455    \\\\\n",
       "\\textbf{Time:}            &     23:56:12     & \\textbf{  Log-Likelihood:    } &   -38.047   \\\\\n",
       "\\textbf{converged:}       &       True       & \\textbf{  LL-Null:           } &   -50.428   \\\\\n",
       "\\textbf{Covariance Type:} &    nonrobust     & \\textbf{  LLR p-value:       } & 5.615e-05   \\\\\n",
       "\\bottomrule\n",
       "\\end{tabular}\n",
       "\\begin{tabular}{lcccccc}\n",
       "            & \\textbf{coef} & \\textbf{std err} & \\textbf{z} & \\textbf{P$> |$z$|$} & \\textbf{[0.025} & \\textbf{0.975]}  \\\\\n",
       "\\midrule\n",
       "\\textbf{x1} &       0.0187  &        0.036     &     0.514  &         0.608        &       -0.053    &        0.090     \\\\\n",
       "\\textbf{x2} &       0.1590  &        0.080     &     1.993  &         0.046        &        0.003    &        0.315     \\\\\n",
       "\\textbf{x3} &      -0.4924  &        0.176     &    -2.791  &         0.005        &       -0.838    &       -0.147     \\\\\n",
       "\\textbf{x4} &       0.4606  &        0.439     &     1.050  &         0.294        &       -0.399    &        1.321     \\\\\n",
       "\\textbf{x5} &       0.0953  &        0.061     &     1.566  &         0.117        &       -0.024    &        0.215     \\\\\n",
       "\\bottomrule\n",
       "\\end{tabular}\n",
       "%\\caption{Logit Regression Results}\n",
       "\\end{center}"
      ],
      "text/plain": [
       "<class 'statsmodels.iolib.summary.Summary'>\n",
       "\"\"\"\n",
       "                           Logit Regression Results                           \n",
       "==============================================================================\n",
       "Dep. Variable:                      y   No. Observations:                   73\n",
       "Model:                          Logit   Df Residuals:                       68\n",
       "Method:                           MLE   Df Model:                            4\n",
       "Date:                Sat, 25 May 2024   Pseudo R-squ.:                  0.2455\n",
       "Time:                        23:56:12   Log-Likelihood:                -38.047\n",
       "converged:                       True   LL-Null:                       -50.428\n",
       "Covariance Type:            nonrobust   LLR p-value:                 5.615e-05\n",
       "==============================================================================\n",
       "                 coef    std err          z      P>|z|      [0.025      0.975]\n",
       "------------------------------------------------------------------------------\n",
       "x1             0.0187      0.036      0.514      0.608      -0.053       0.090\n",
       "x2             0.1590      0.080      1.993      0.046       0.003       0.315\n",
       "x3            -0.4924      0.176     -2.791      0.005      -0.838      -0.147\n",
       "x4             0.4606      0.439      1.050      0.294      -0.399       1.321\n",
       "x5             0.0953      0.061      1.566      0.117      -0.024       0.215\n",
       "==============================================================================\n",
       "\"\"\""
      ]
     },
     "execution_count": 29,
     "metadata": {},
     "output_type": "execute_result"
    }
   ],
   "source": [
    "import statsmodels.discrete.discrete_model as sm\n",
    "\n",
    "y = y-1 #transformation en variable binaire qui prend 1 et 0 pour pouvoir passer par Logit\n",
    "glm = sm.Logit(y,X)\n",
    "result = glm.fit()\n",
    "result.summary()"
   ]
  },
  {
   "cell_type": "markdown",
   "id": "63dc3cdf-e215-4834-8216-867f02ae826b",
   "metadata": {},
   "source": [
    "On remarque que les p-values associées à la significativité des coefficients associés aux variables 'CREATKIN' et 'LACTDEHY' sont inférieures à 0.05. Ces covariables semblent être les plus significatives dans ce modèle qui étudie l'influence de toutes les variables conjointement."
   ]
  },
  {
   "cell_type": "markdown",
   "id": "20a0c45b-9a87-493f-9bba-54f6b23c7d07",
   "metadata": {},
   "source": [
    "### Sélection des variables"
   ]
  },
  {
   "cell_type": "code",
   "execution_count": 30,
   "id": "98c78bbf-61a8-4724-88e0-ef3912cc8aff",
   "metadata": {},
   "outputs": [],
   "source": [
    "from sklearn.linear_model import LogisticRegression\n",
    "from sklearn.feature_selection import RFE\n",
    "Ir = LogisticRegression()\n",
    "selecteur = RFE(estimator=Ir)\n",
    "sol = selecteur.fit(X,y)"
   ]
  },
  {
   "cell_type": "code",
   "execution_count": 31,
   "id": "ddac20c4-86a2-4bf7-8e0f-8a4205ea6b7f",
   "metadata": {},
   "outputs": [
    {
     "name": "stdout",
     "output_type": "stream",
     "text": [
      "2\n"
     ]
    }
   ],
   "source": [
    "print(sol.n_features_)"
   ]
  },
  {
   "cell_type": "markdown",
   "id": "6dae4072-d71f-4554-8512-3c7d6cb1d177",
   "metadata": {},
   "source": [
    "On a donc deux variables pertinentes"
   ]
  },
  {
   "cell_type": "code",
   "execution_count": 32,
   "id": "e8b27438-9c27-4354-a1fd-c32b57cf328f",
   "metadata": {},
   "outputs": [
    {
     "name": "stdout",
     "output_type": "stream",
     "text": [
      "[False False  True  True False]\n"
     ]
    }
   ],
   "source": [
    "print(sol.support_)"
   ]
  },
  {
   "cell_type": "markdown",
   "id": "6166fb16-6d15-4321-b7d5-d5aff28adf17",
   "metadata": {},
   "source": [
    "Les variables 'HEMOPEX' et 'LACTDEHY' sont donc les plus pertinentes d'après le selecteur."
   ]
  },
  {
   "cell_type": "code",
   "execution_count": 33,
   "id": "405dd633-fad6-4f98-b23f-000d6dd5b8d9",
   "metadata": {},
   "outputs": [
    {
     "name": "stdout",
     "output_type": "stream",
     "text": [
      "[4 2 1 1 3]\n"
     ]
    }
   ],
   "source": [
    "print(sol.ranking_)"
   ]
  },
  {
   "cell_type": "markdown",
   "id": "6bf3f2ab-c8fb-4534-965a-655751a52f2e",
   "metadata": {},
   "source": [
    "Classement de la pertinence des variables ('HEMOPEX' et 'LACTDEHY' en premiere ligne)"
   ]
  },
  {
   "cell_type": "code",
   "execution_count": 34,
   "id": "8c0aa836-09fa-4f24-afdc-55aa96668398",
   "metadata": {},
   "outputs": [],
   "source": [
    "Xs = X[:,sol.support_]"
   ]
  },
  {
   "cell_type": "markdown",
   "id": "91f96b67-6ba0-4ab7-8b01-8800140fd137",
   "metadata": {},
   "source": [
    "Xs représente le modèle optimisé qui prend en compte les modalités les plus significatives selon RFE"
   ]
  },
  {
   "cell_type": "markdown",
   "id": "560c8b52-a9d9-437f-bc22-0f3da86303df",
   "metadata": {},
   "source": [
    "### Entrainement du modèle / Evaluation de sa qualité"
   ]
  },
  {
   "cell_type": "code",
   "execution_count": 35,
   "id": "51e75966-50e7-4075-82b0-149a1e4b3a63",
   "metadata": {},
   "outputs": [
    {
     "name": "stdout",
     "output_type": "stream",
     "text": [
      "Matrice de confusion:\n",
      "[[33  7]\n",
      " [ 6 27]]\n",
      "Score du modèle : 0.821917808219178\n"
     ]
    }
   ],
   "source": [
    "GLM= LogisticRegression(max_iter=200)\n",
    "GLM.fit(Xs,y)\n",
    "y_pred=GLM.predict(Xs)\n",
    "\n",
    "MC = confusion_matrix(y_pred,y)\n",
    "score = GLM.score(Xs,y)\n",
    "\n",
    "print(\"Matrice de confusion:\")\n",
    "print(MC)\n",
    "\n",
    "print(\"Score du modèle :\", score)"
   ]
  },
  {
   "cell_type": "markdown",
   "id": "00863db7-01b6-466a-8811-23c0abedd09b",
   "metadata": {},
   "source": [
    "### Courbe de ROC"
   ]
  },
  {
   "cell_type": "code",
   "execution_count": 37,
   "id": "8d5561ef-dc41-4996-8e09-cb2329230029",
   "metadata": {},
   "outputs": [],
   "source": [
    "from sklearn.metrics import roc_auc_score, roc_curve, auc\n",
    "import matplotlib.pyplot as plt"
   ]
  },
  {
   "cell_type": "code",
   "execution_count": 38,
   "id": "13aac007-17ee-492c-82a4-a8e84ca10cb2",
   "metadata": {},
   "outputs": [
    {
     "data": {
      "image/png": "[encoded data removed]",
      "text/plain": [
       "<Figure size 640x480 with 1 Axes>"
      ]
     },
     "metadata": {},
     "output_type": "display_data"
    }
   ],
   "source": [
    "y_probs = GLM.predict_proba(Xs)\n",
    "\n",
    "fpr, tpr, thresholds = roc_curve(y, y_probs[:,1])\n",
    "\n",
    "roc_auc = auc(fpr, tpr)\n",
    "\n",
    "plt.figure()\n",
    "plt.plot(fpr, tpr, color='darkorange', lw=2, label='Courbe ROC (AUC = %0.2f)' % roc_auc)\n",
    "plt.plot([0, 1], [0, 1], color='navy', lw=2, linestyle='--')\n",
    "plt.xlim([0.0, 1.0])\n",
    "plt.ylim([0.0, 1.05])\n",
    "plt.xlabel('Taux de faux positifs')\n",
    "plt.ylabel('Taux de vrais positifs')\n",
    "plt.title('Courbe ROC')\n",
    "plt.legend(loc=\"lower right\")\n",
    "plt.show()"
   ]
  },
  {
   "cell_type": "markdown",
   "id": "000d99e5-31fc-46a7-a015-9faac6e7f4aa",
   "metadata": {},
   "source": [
    "L'AUC est proche de 1 donc notre modèle est globalement bon. Les prédictions restent néanmoins critiquables. On essaye de procéder par analyse discriminante."
   ]
  },
  {
   "cell_type": "markdown",
   "id": "6c78216a-32ae-4aa2-b703-5104d1151bbe",
   "metadata": {},
   "source": [
    "## II. Analyse discriminante"
   ]
  },
  {
   "cell_type": "markdown",
   "id": "444d356a-ee85-4447-a6cf-c61afee2d0bb",
   "metadata": {},
   "source": [
    "Comme vu précedemment dans l'étude, les variables 'HEMOPEX' et 'LACTDEHY' expliquent la variable réponse 'CARRIER' de la manière la plus significative. On se propose donc de représenter un nuage de points en fonction des valeurs en ces deux variables explicatives, en les étiquétant selon leur variables 'CARRIER'."
   ]
  },
  {
   "cell_type": "code",
   "execution_count": 39,
   "id": "19743f75-7360-4926-9770-1b0ada3de23f",
   "metadata": {},
   "outputs": [
    {
     "data": {
      "image/png": "[encoded data removed]",
      "text/plain": [
       "<Figure size 640x480 with 1 Axes>"
      ]
     },
     "metadata": {},
     "output_type": "display_data"
    }
   ],
   "source": [
    "import matplotlib.pyplot as plt\n",
    "\n",
    "x1 = Xs[:, 0]  # HEMOPEX\n",
    "x2 = Xs[:, 1]  # LACTDEHY\n",
    "y = musco[:, -1]  # CARRIER\n",
    "\n",
    "colors = ['blue' if label ==  1 else 'red' for label in y]\n",
    "\n",
    "# Représentation du nuage de points avec étiquettes\n",
    "plt.scatter(x1, x2, c=colors)\n",
    "\n",
    "plt.scatter([], [], color='blue', label='Saints')\n",
    "plt.scatter([], [], color='red', label='Porteurs')\n",
    "\n",
    "plt.xlabel('HEMOPEX')\n",
    "plt.ylabel('LACTDEHY')\n",
    "plt.legend()\n",
    "\n",
    "\n",
    "plt.title('Représentation graphique des points avec étiquettes')\n",
    "plt.show()"
   ]
  },
  {
   "cell_type": "markdown",
   "id": "0242df13-f591-4ee4-a82d-92b1bcff5b13",
   "metadata": {},
   "source": [
    "Le graphique confirme la possibilité de séparer géométriquement les points en deux groupes, d'où le recours à l'analyse discriminante"
   ]
  },
  {
   "cell_type": "markdown",
   "id": "93b6cce5-27d5-4ac0-a658-88a040c5386d",
   "metadata": {},
   "source": [
    "## Entrainement du modèle / Evaluation de sa qualité"
   ]
  },
  {
   "cell_type": "markdown",
   "id": "ea298a0f-78cc-46d7-93a0-3b9ae024e318",
   "metadata": {},
   "source": [
    "### 1. Analyse Discriminante Linéaire"
   ]
  },
  {
   "cell_type": "code",
   "execution_count": 40,
   "id": "80b656d0-a5d9-49ba-8fa6-16828875cead",
   "metadata": {},
   "outputs": [
    {
     "data": {
      "image/png": "[encoded data removed]",
      "text/plain": [
       "<Figure size 640x480 with 1 Axes>"
      ]
     },
     "metadata": {},
     "output_type": "display_data"
    }
   ],
   "source": [
    "from sklearn.discriminant_analysis import LinearDiscriminantAnalysis\n",
    "from sklearn.metrics import confusion_matrix, roc_curve, auc\n",
    "import matplotlib.pyplot as plt\n",
    "\n",
    "lda = LinearDiscriminantAnalysis()\n",
    "lda.fit(Xs, y)\n",
    "LD1 = lda.transform(Xs)\n",
    "\n",
    "plt.scatter(LD1, y)\n",
    "plt.title('Score LD1')\n",
    "plt.xlabel('LD1')\n",
    "plt.ylabel('Classe') \n",
    "plt.show()"
   ]
  },
  {
   "cell_type": "markdown",
   "id": "1b830405-f3ec-4d48-8184-ec3cbff99f14",
   "metadata": {},
   "source": [
    "On voit donc une discrimination possible entre les deux classes"
   ]
  },
  {
   "cell_type": "code",
   "execution_count": 41,
   "id": "dbdf1e91-c226-4cd9-a161-9b04be8ae989",
   "metadata": {
    "scrolled": true
   },
   "outputs": [
    {
     "data": {
      "image/png": "[encoded data removed]",
      "text/plain": [
       "<Figure size 640x480 with 1 Axes>"
      ]
     },
     "metadata": {},
     "output_type": "display_data"
    }
   ],
   "source": [
    "from sklearn.discriminant_analysis import LinearDiscriminantAnalysis\n",
    "from sklearn.metrics import confusion_matrix, roc_curve, auc\n",
    "import matplotlib.pyplot as plt\n",
    "\n",
    "lda = LinearDiscriminantAnalysis()\n",
    "lda.fit(Xs, y)\n",
    "LD1 = lda.transform(Xs)\n",
    "\n",
    "plt.scatter(LD1, y)\n",
    "plt.title('Score LD1')\n",
    "plt.xlabel('LD1')\n",
    "plt.ylabel('Classe') \n",
    "plt.show()"
   ]
  },
  {
   "cell_type": "markdown",
   "id": "5c0a71f7-0262-45d4-bf9c-4b87a75c1924",
   "metadata": {},
   "source": [
    "On remarque que le score de ce modèle est équivalent au modèle de régression logistique"
   ]
  },
  {
   "cell_type": "markdown",
   "id": "7cda33a4-6b34-4d30-9f6f-61e517dd49bb",
   "metadata": {},
   "source": [
    "Comme les groupes ne semblent pas être de variance égale, on tente de faire une analyse discrimante quadratique plutôt que linéaire"
   ]
  },
  {
   "cell_type": "markdown",
   "id": "0c524f1d-488a-41ae-8e71-820a85ac0c10",
   "metadata": {},
   "source": [
    "### 2. Analyse Discriminante Quadratique"
   ]
  },
  {
   "cell_type": "code",
   "execution_count": 42,
   "id": "d4794629-aa2c-4ea5-9a71-0d398ebabd15",
   "metadata": {},
   "outputs": [
    {
     "name": "stdout",
     "output_type": "stream",
     "text": [
      "Score du modèle QDA : 0.8356164383561644\n",
      "Matrice de confusion :\n",
      " [[36  3]\n",
      " [ 9 25]]\n"
     ]
    }
   ],
   "source": [
    "from sklearn.discriminant_analysis import QuadraticDiscriminantAnalysis\n",
    "\n",
    "qda = QuadraticDiscriminantAnalysis()\n",
    "\n",
    "qda.fit(Xs, y)\n",
    "\n",
    "y_pred = qda.predict(Xs)\n",
    "\n",
    "\n",
    "score = qda.score(Xs, y)\n",
    "print(\"Score du modèle QDA :\", score)\n",
    "\n",
    "conf_matrix = confusion_matrix(y, y_pred)\n",
    "print(\"Matrice de confusion :\\n\", conf_matrix)"
   ]
  },
  {
   "cell_type": "markdown",
   "id": "03168b18-ac67-4f88-be7e-58168c17cbe1",
   "metadata": {},
   "source": [
    "Le score global est légèrement plus élevé qu'en LDA. Cependant, le modèle LDA a une meilleure capacité à prédire les individus atteints. En effet le modèle QDA possède un faible taux de faux positifs et un taux élevé de faux négatifs, tandis que le modèle LDA possède un faible taux de faux négatifs et un taux élevé de faux positifs. Vu le contexte médical des données, on préférera le modèle LDA au modèle QDA, puisqu'on préfère se tromper sur les individus saints plutôt que sur les individus atteints."
   ]
  }
 ],
 "metadata": {
  "kernelspec": {
   "display_name": "Python 3 (ipykernel)",
   "language": "python",
   "name": "python3"
  },
  "language_info": {
   "codemirror_mode": {
    "name": "ipython",
    "version": 3
   },
   "file_extension": ".py",
   "mimetype": "text/x-python",
   "name": "python",
   "nbconvert_exporter": "python",
   "pygments_lexer": "ipython3",
   "version": "3.11.9"
  }
 },
 "nbformat": 4,
 "nbformat_minor": 5
}
